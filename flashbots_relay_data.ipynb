{
 "cells": [
  {
   "cell_type": "code",
   "execution_count": 2,
   "metadata": {},
   "outputs": [],
   "source": [
    "import polars as pl\n",
    "from zipfile import ZipFile"
   ]
  },
  {
   "cell_type": "code",
   "execution_count": 4,
   "metadata": {},
   "outputs": [
    {
     "name": "stderr",
     "output_type": "stream",
     "text": [
      "/tmp/ipykernel_29977/708323748.py:18: UserWarning: Polars found a filename. Ensure you pass a path to the file instead of a python file object when possible for best performance.\n",
      "  df = pl.read_csv(f)\n"
     ]
    },
    {
     "name": "stdout",
     "output_type": "stream",
     "text": [
      "shape: (12_536_278, 15)\n",
      "┌────────────┬───────────┬───────────┬─────────┬───┬───────────┬───────────┬───────────┬───────────┐\n",
      "│ source_typ ┆ received_ ┆ timestamp ┆ slot    ┆ … ┆ relay     ┆ proposer_ ┆ proposer_ ┆ optimisti │\n",
      "│ e          ┆ at_ms     ┆ _ms       ┆ ---     ┆   ┆ ---       ┆ pubkey    ┆ fee_recip ┆ c_submiss │\n",
      "│ ---        ┆ ---       ┆ ---       ┆ i64     ┆   ┆ str       ┆ ---       ┆ ient      ┆ ion       │\n",
      "│ i64        ┆ i64       ┆ i64       ┆         ┆   ┆           ┆ str       ┆ ---       ┆ ---       │\n",
      "│            ┆           ┆           ┆         ┆   ┆           ┆           ┆ str       ┆ bool      │\n",
      "╞════════════╪═══════════╪═══════════╪═════════╪═══╪═══════════╪═══════════╪═══════════╪═══════════╡\n",
      "│ 0          ┆ 171910080 ┆ null      ┆ 9356398 ┆ … ┆ aestus.li ┆ null      ┆ null      ┆ null      │\n",
      "│            ┆ 0034      ┆           ┆         ┆   ┆ ve        ┆           ┆           ┆           │\n",
      "│ 2          ┆ 171910080 ┆ 171910080 ┆ 9356398 ┆ … ┆ relay.ult ┆ null      ┆ null      ┆ null      │\n",
      "│            ┆ 0044      ┆ 0032      ┆         ┆   ┆ rasound.m ┆           ┆           ┆           │\n",
      "│            ┆           ┆           ┆         ┆   ┆ oney      ┆           ┆           ┆           │\n",
      "│ 0          ┆ 171910080 ┆ null      ┆ 9356398 ┆ … ┆ agnostic- ┆ null      ┆ null      ┆ null      │\n",
      "│            ┆ 0052      ┆           ┆         ┆   ┆ relay.net ┆           ┆           ┆           │\n",
      "│ 0          ┆ 171910080 ┆ null      ┆ 9356398 ┆ … ┆ relay.ult ┆ null      ┆ null      ┆ null      │\n",
      "│            ┆ 0066      ┆           ┆         ┆   ┆ rasound.m ┆           ┆           ┆           │\n",
      "│            ┆           ┆           ┆         ┆   ┆ oney      ┆           ┆           ┆           │\n",
      "│ 2          ┆ 171910080 ┆ 171910080 ┆ 9356398 ┆ … ┆ relay.ult ┆ null      ┆ null      ┆ null      │\n",
      "│            ┆ 0075      ┆ 0062      ┆         ┆   ┆ rasound.m ┆           ┆           ┆           │\n",
      "│            ┆           ┆           ┆         ┆   ┆ oney      ┆           ┆           ┆           │\n",
      "│ …          ┆ …         ┆ …         ┆ …       ┆ … ┆ …         ┆ …         ┆ …         ┆ …         │\n",
      "│ 1          ┆ 171918719 ┆ 171918719 ┆ 9363598 ┆ … ┆ boost-rel ┆ 0xb3d9671 ┆ 0x388c818 ┆ false     │\n",
      "│            ┆ 9644      ┆ 8605      ┆         ┆   ┆ ay.flashb ┆ ba8344577 ┆ ca8b9251b ┆           │\n",
      "│            ┆           ┆           ┆         ┆   ┆ ots.net   ┆ a4df75479 ┆ 393131c08 ┆           │\n",
      "│            ┆           ┆           ┆         ┆   ┆           ┆ a8b…      ┆ a73…      ┆           │\n",
      "│ 1          ┆ 171918719 ┆ 171918719 ┆ 9363598 ┆ … ┆ boost-rel ┆ 0xb3d9671 ┆ 0x388c818 ┆ false     │\n",
      "│            ┆ 9644      ┆ 8566      ┆         ┆   ┆ ay.flashb ┆ ba8344577 ┆ ca8b9251b ┆           │\n",
      "│            ┆           ┆           ┆         ┆   ┆ ots.net   ┆ a4df75479 ┆ 393131c08 ┆           │\n",
      "│            ┆           ┆           ┆         ┆   ┆           ┆ a8b…      ┆ a73…      ┆           │\n",
      "│ 1          ┆ 171918719 ┆ 171918719 ┆ 9363598 ┆ … ┆ boost-rel ┆ 0xb3d9671 ┆ 0x388c818 ┆ false     │\n",
      "│            ┆ 9644      ┆ 8601      ┆         ┆   ┆ ay.flashb ┆ ba8344577 ┆ ca8b9251b ┆           │\n",
      "│            ┆           ┆           ┆         ┆   ┆ ots.net   ┆ a4df75479 ┆ 393131c08 ┆           │\n",
      "│            ┆           ┆           ┆         ┆   ┆           ┆ a8b…      ┆ a73…      ┆           │\n",
      "│ 1          ┆ 171918719 ┆ 171918719 ┆ 9363598 ┆ … ┆ boost-rel ┆ 0xb3d9671 ┆ 0x388c818 ┆ false     │\n",
      "│            ┆ 9644      ┆ 8564      ┆         ┆   ┆ ay.flashb ┆ ba8344577 ┆ ca8b9251b ┆           │\n",
      "│            ┆           ┆           ┆         ┆   ┆ ots.net   ┆ a4df75479 ┆ 393131c08 ┆           │\n",
      "│            ┆           ┆           ┆         ┆   ┆           ┆ a8b…      ┆ a73…      ┆           │\n",
      "│ 1          ┆ 171918719 ┆ 171918719 ┆ 9363598 ┆ … ┆ boost-rel ┆ 0xb3d9671 ┆ 0x388c818 ┆ false     │\n",
      "│            ┆ 9644      ┆ 8511      ┆         ┆   ┆ ay.flashb ┆ ba8344577 ┆ ca8b9251b ┆           │\n",
      "│            ┆           ┆           ┆         ┆   ┆ ots.net   ┆ a4df75479 ┆ 393131c08 ┆           │\n",
      "│            ┆           ┆           ┆         ┆   ┆           ┆ a8b…      ┆ a73…      ┆           │\n",
      "└────────────┴───────────┴───────────┴─────────┴───┴───────────┴───────────┴───────────┴───────────┘\n"
     ]
    }
   ],
   "source": [
    "import requests\n",
    "import zipfile\n",
    "import io\n",
    "import polars as pl\n",
    "\n",
    "# Define the URL\n",
    "url = \"https://bidarchive.relayscan.io/ethereum/mainnet/2024-06/2024-06-23_all.csv.zip\"\n",
    "\n",
    "# Download the file\n",
    "response = requests.get(url)\n",
    "response.raise_for_status()  # Check for request errors\n",
    "\n",
    "# Extract the ZIP file\n",
    "with zipfile.ZipFile(io.BytesIO(response.content)) as z:\n",
    "    # Assume there is only one file in the ZIP\n",
    "    with z.open(z.namelist()[0]) as f:\n",
    "        # Read the CSV with Polars\n",
    "        df = pl.read_csv(f)\n",
    "\n",
    "# Display the DataFrame\n",
    "print(df)\n"
   ]
  },
  {
   "cell_type": "code",
   "execution_count": 6,
   "metadata": {},
   "outputs": [
    {
     "data": {
      "text/html": [
       "<div><style>\n",
       ".dataframe > thead > tr,\n",
       ".dataframe > tbody > tr {\n",
       "  text-align: right;\n",
       "  white-space: pre-wrap;\n",
       "}\n",
       "</style>\n",
       "<small>shape: (12_496_482, 15)</small><table border=\"1\" class=\"dataframe\"><thead><tr><th>source_type</th><th>received_at_ms</th><th>timestamp_ms</th><th>slot</th><th>slot_t_ms</th><th>value</th><th>block_hash</th><th>parent_hash</th><th>builder_pubkey</th><th>block_number</th><th>block_fee_recipient</th><th>relay</th><th>proposer_pubkey</th><th>proposer_fee_recipient</th><th>optimistic_submission</th></tr><tr><td>i64</td><td>i64</td><td>i64</td><td>i64</td><td>i64</td><td>i64</td><td>str</td><td>str</td><td>str</td><td>i64</td><td>str</td><td>str</td><td>str</td><td>str</td><td>bool</td></tr></thead><tbody><tr><td>2</td><td>1719100800044</td><td>1719100800032</td><td>9356398</td><td>1032</td><td>44728596733292764</td><td>&quot;0x8b3e95defe66240d158540e1b572…</td><td>&quot;0xcc43c5208d5046fe257ec2382e5c…</td><td>&quot;0xb26f96664274e15fb6fcda862302…</td><td>20150676</td><td>&quot;0x4838b106fce9647bdf1e7877bf73…</td><td>&quot;relay.ultrasound.money&quot;</td><td>null</td><td>null</td><td>null</td></tr><tr><td>2</td><td>1719100800075</td><td>1719100800062</td><td>9356398</td><td>1062</td><td>44779553276939784</td><td>&quot;0xbc8e8833ed5c90771080e07cc70e…</td><td>&quot;0xcc43c5208d5046fe257ec2382e5c…</td><td>&quot;0xb26f96664274e15fb6fcda862302…</td><td>20150676</td><td>&quot;0x4838b106fce9647bdf1e7877bf73…</td><td>&quot;relay.ultrasound.money&quot;</td><td>null</td><td>null</td><td>null</td></tr><tr><td>2</td><td>1719100800087</td><td>1719100800075</td><td>9356398</td><td>1075</td><td>44794160668670116</td><td>&quot;0x24b77900b43ff74dc921be79f505…</td><td>&quot;0xcc43c5208d5046fe257ec2382e5c…</td><td>&quot;0x8527d16cf01edcea2cbb05e27f5f…</td><td>20150676</td><td>&quot;0x4838b106fce9647bdf1e7877bf73…</td><td>&quot;relay.ultrasound.money&quot;</td><td>null</td><td>null</td><td>null</td></tr><tr><td>2</td><td>1719100800112</td><td>1719100800099</td><td>9356398</td><td>1099</td><td>44809758431998932</td><td>&quot;0x1b002fb2965c4435234fbc5df2e1…</td><td>&quot;0xcc43c5208d5046fe257ec2382e5c…</td><td>&quot;0xa9d0a0f9059972d775a45d837776…</td><td>20150676</td><td>&quot;0x4838b106fce9647bdf1e7877bf73…</td><td>&quot;relay.ultrasound.money&quot;</td><td>null</td><td>null</td><td>null</td></tr><tr><td>2</td><td>1719100800153</td><td>1719100800141</td><td>9356398</td><td>1141</td><td>44830629521402821</td><td>&quot;0x55d1f9358b0be26b94b22fa1352d…</td><td>&quot;0xcc43c5208d5046fe257ec2382e5c…</td><td>&quot;0xa9d0a0f9059972d775a45d837776…</td><td>20150676</td><td>&quot;0x4838b106fce9647bdf1e7877bf73…</td><td>&quot;relay.ultrasound.money&quot;</td><td>null</td><td>null</td><td>null</td></tr><tr><td>&hellip;</td><td>&hellip;</td><td>&hellip;</td><td>&hellip;</td><td>&hellip;</td><td>&hellip;</td><td>&hellip;</td><td>&hellip;</td><td>&hellip;</td><td>&hellip;</td><td>&hellip;</td><td>&hellip;</td><td>&hellip;</td><td>&hellip;</td><td>&hellip;</td></tr><tr><td>1</td><td>1719187199644</td><td>1719187198605</td><td>9363598</td><td>-395</td><td>22092099612071419</td><td>&quot;0xb7f0500cb3b77d84f5dfa587acab…</td><td>&quot;0xe2a0c6a7c200c16238121d4ce2ba…</td><td>&quot;0x840c9dafb68f5cd460b5d5677b85…</td><td>20157825</td><td>null</td><td>&quot;boost-relay.flashbots.net&quot;</td><td>&quot;0xb3d9671ba8344577a4df75479a8b…</td><td>&quot;0x388c818ca8b9251b393131c08a73…</td><td>false</td></tr><tr><td>1</td><td>1719187199644</td><td>1719187198566</td><td>9363598</td><td>-434</td><td>22113205465637638</td><td>&quot;0x8b69059e8dd381106fff665d07ca…</td><td>&quot;0xe2a0c6a7c200c16238121d4ce2ba…</td><td>&quot;0xa21a2f4807a2bcb6b07c10cea241…</td><td>20157825</td><td>null</td><td>&quot;boost-relay.flashbots.net&quot;</td><td>&quot;0xb3d9671ba8344577a4df75479a8b…</td><td>&quot;0x388c818ca8b9251b393131c08a73…</td><td>false</td></tr><tr><td>1</td><td>1719187199644</td><td>1719187198601</td><td>9363598</td><td>-399</td><td>22035494909273374</td><td>&quot;0x82467f9ad8cfa8768b271ad8d0d8…</td><td>&quot;0xe2a0c6a7c200c16238121d4ce2ba…</td><td>&quot;0xa2d994ea26d7c3b94b444fc2f2a6…</td><td>20157825</td><td>null</td><td>&quot;boost-relay.flashbots.net&quot;</td><td>&quot;0xb3d9671ba8344577a4df75479a8b…</td><td>&quot;0x388c818ca8b9251b393131c08a73…</td><td>false</td></tr><tr><td>1</td><td>1719187199644</td><td>1719187198564</td><td>9363598</td><td>-436</td><td>21966110005336565</td><td>&quot;0x18fe1b25813fd25c2211f37d2ff6…</td><td>&quot;0xe2a0c6a7c200c16238121d4ce2ba…</td><td>&quot;0xb9f88bc584a53fabb5b295e50638…</td><td>20157825</td><td>null</td><td>&quot;boost-relay.flashbots.net&quot;</td><td>&quot;0xb3d9671ba8344577a4df75479a8b…</td><td>&quot;0x388c818ca8b9251b393131c08a73…</td><td>false</td></tr><tr><td>1</td><td>1719187199644</td><td>1719187198511</td><td>9363598</td><td>-489</td><td>21374595238712730</td><td>&quot;0x5b830493389393b1b25ba1e2fcff…</td><td>&quot;0xe2a0c6a7c200c16238121d4ce2ba…</td><td>&quot;0xa2d994ea26d7c3b94b444fc2f2a6…</td><td>20157825</td><td>null</td><td>&quot;boost-relay.flashbots.net&quot;</td><td>&quot;0xb3d9671ba8344577a4df75479a8b…</td><td>&quot;0x388c818ca8b9251b393131c08a73…</td><td>false</td></tr></tbody></table></div>"
      ],
      "text/plain": [
       "shape: (12_496_482, 15)\n",
       "┌────────────┬───────────┬───────────┬─────────┬───┬───────────┬───────────┬───────────┬───────────┐\n",
       "│ source_typ ┆ received_ ┆ timestamp ┆ slot    ┆ … ┆ relay     ┆ proposer_ ┆ proposer_ ┆ optimisti │\n",
       "│ e          ┆ at_ms     ┆ _ms       ┆ ---     ┆   ┆ ---       ┆ pubkey    ┆ fee_recip ┆ c_submiss │\n",
       "│ ---        ┆ ---       ┆ ---       ┆ i64     ┆   ┆ str       ┆ ---       ┆ ient      ┆ ion       │\n",
       "│ i64        ┆ i64       ┆ i64       ┆         ┆   ┆           ┆ str       ┆ ---       ┆ ---       │\n",
       "│            ┆           ┆           ┆         ┆   ┆           ┆           ┆ str       ┆ bool      │\n",
       "╞════════════╪═══════════╪═══════════╪═════════╪═══╪═══════════╪═══════════╪═══════════╪═══════════╡\n",
       "│ 2          ┆ 171910080 ┆ 171910080 ┆ 9356398 ┆ … ┆ relay.ult ┆ null      ┆ null      ┆ null      │\n",
       "│            ┆ 0044      ┆ 0032      ┆         ┆   ┆ rasound.m ┆           ┆           ┆           │\n",
       "│            ┆           ┆           ┆         ┆   ┆ oney      ┆           ┆           ┆           │\n",
       "│ 2          ┆ 171910080 ┆ 171910080 ┆ 9356398 ┆ … ┆ relay.ult ┆ null      ┆ null      ┆ null      │\n",
       "│            ┆ 0075      ┆ 0062      ┆         ┆   ┆ rasound.m ┆           ┆           ┆           │\n",
       "│            ┆           ┆           ┆         ┆   ┆ oney      ┆           ┆           ┆           │\n",
       "│ 2          ┆ 171910080 ┆ 171910080 ┆ 9356398 ┆ … ┆ relay.ult ┆ null      ┆ null      ┆ null      │\n",
       "│            ┆ 0087      ┆ 0075      ┆         ┆   ┆ rasound.m ┆           ┆           ┆           │\n",
       "│            ┆           ┆           ┆         ┆   ┆ oney      ┆           ┆           ┆           │\n",
       "│ 2          ┆ 171910080 ┆ 171910080 ┆ 9356398 ┆ … ┆ relay.ult ┆ null      ┆ null      ┆ null      │\n",
       "│            ┆ 0112      ┆ 0099      ┆         ┆   ┆ rasound.m ┆           ┆           ┆           │\n",
       "│            ┆           ┆           ┆         ┆   ┆ oney      ┆           ┆           ┆           │\n",
       "│ 2          ┆ 171910080 ┆ 171910080 ┆ 9356398 ┆ … ┆ relay.ult ┆ null      ┆ null      ┆ null      │\n",
       "│            ┆ 0153      ┆ 0141      ┆         ┆   ┆ rasound.m ┆           ┆           ┆           │\n",
       "│            ┆           ┆           ┆         ┆   ┆ oney      ┆           ┆           ┆           │\n",
       "│ …          ┆ …         ┆ …         ┆ …       ┆ … ┆ …         ┆ …         ┆ …         ┆ …         │\n",
       "│ 1          ┆ 171918719 ┆ 171918719 ┆ 9363598 ┆ … ┆ boost-rel ┆ 0xb3d9671 ┆ 0x388c818 ┆ false     │\n",
       "│            ┆ 9644      ┆ 8605      ┆         ┆   ┆ ay.flashb ┆ ba8344577 ┆ ca8b9251b ┆           │\n",
       "│            ┆           ┆           ┆         ┆   ┆ ots.net   ┆ a4df75479 ┆ 393131c08 ┆           │\n",
       "│            ┆           ┆           ┆         ┆   ┆           ┆ a8b…      ┆ a73…      ┆           │\n",
       "│ 1          ┆ 171918719 ┆ 171918719 ┆ 9363598 ┆ … ┆ boost-rel ┆ 0xb3d9671 ┆ 0x388c818 ┆ false     │\n",
       "│            ┆ 9644      ┆ 8566      ┆         ┆   ┆ ay.flashb ┆ ba8344577 ┆ ca8b9251b ┆           │\n",
       "│            ┆           ┆           ┆         ┆   ┆ ots.net   ┆ a4df75479 ┆ 393131c08 ┆           │\n",
       "│            ┆           ┆           ┆         ┆   ┆           ┆ a8b…      ┆ a73…      ┆           │\n",
       "│ 1          ┆ 171918719 ┆ 171918719 ┆ 9363598 ┆ … ┆ boost-rel ┆ 0xb3d9671 ┆ 0x388c818 ┆ false     │\n",
       "│            ┆ 9644      ┆ 8601      ┆         ┆   ┆ ay.flashb ┆ ba8344577 ┆ ca8b9251b ┆           │\n",
       "│            ┆           ┆           ┆         ┆   ┆ ots.net   ┆ a4df75479 ┆ 393131c08 ┆           │\n",
       "│            ┆           ┆           ┆         ┆   ┆           ┆ a8b…      ┆ a73…      ┆           │\n",
       "│ 1          ┆ 171918719 ┆ 171918719 ┆ 9363598 ┆ … ┆ boost-rel ┆ 0xb3d9671 ┆ 0x388c818 ┆ false     │\n",
       "│            ┆ 9644      ┆ 8564      ┆         ┆   ┆ ay.flashb ┆ ba8344577 ┆ ca8b9251b ┆           │\n",
       "│            ┆           ┆           ┆         ┆   ┆ ots.net   ┆ a4df75479 ┆ 393131c08 ┆           │\n",
       "│            ┆           ┆           ┆         ┆   ┆           ┆ a8b…      ┆ a73…      ┆           │\n",
       "│ 1          ┆ 171918719 ┆ 171918719 ┆ 9363598 ┆ … ┆ boost-rel ┆ 0xb3d9671 ┆ 0x388c818 ┆ false     │\n",
       "│            ┆ 9644      ┆ 8511      ┆         ┆   ┆ ay.flashb ┆ ba8344577 ┆ ca8b9251b ┆           │\n",
       "│            ┆           ┆           ┆         ┆   ┆ ots.net   ┆ a4df75479 ┆ 393131c08 ┆           │\n",
       "│            ┆           ┆           ┆         ┆   ┆           ┆ a8b…      ┆ a73…      ┆           │\n",
       "└────────────┴───────────┴───────────┴─────────┴───┴───────────┴───────────┴───────────┴───────────┘"
      ]
     },
     "execution_count": 6,
     "metadata": {},
     "output_type": "execute_result"
    }
   ],
   "source": [
    "df.filter(pl.col('builder_pubkey').is_not_null())"
   ]
  },
  {
   "cell_type": "code",
   "execution_count": null,
   "metadata": {},
   "outputs": [],
   "source": []
  }
 ],
 "metadata": {
  "kernelspec": {
   "display_name": ".venv",
   "language": "python",
   "name": "python3"
  },
  "language_info": {
   "codemirror_mode": {
    "name": "ipython",
    "version": 3
   },
   "file_extension": ".py",
   "mimetype": "text/x-python",
   "name": "python",
   "nbconvert_exporter": "python",
   "pygments_lexer": "ipython3",
   "version": "3.12.2"
  }
 },
 "nbformat": 4,
 "nbformat_minor": 2
}
